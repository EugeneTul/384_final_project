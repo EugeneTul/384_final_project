{
 "cells": [
  {
   "cell_type": "code",
   "execution_count": 2,
   "id": "e66789cd",
   "metadata": {},
   "outputs": [
    {
     "name": "stdout",
     "output_type": "stream",
     "text": [
      "Collecting cbbpy\n",
      "  Downloading CBBpy-1.1.0-py3-none-any.whl (11 kB)\n",
      "Requirement already satisfied: pandas>=1.4.2 in /Users/eugenetulyagijja/anaconda3/envs/SAL384/lib/python3.10/site-packages (from cbbpy) (2.1.0)\n",
      "Requirement already satisfied: numpy>=1.22.3 in /Users/eugenetulyagijja/anaconda3/envs/SAL384/lib/python3.10/site-packages (from cbbpy) (1.25.2)\n",
      "Requirement already satisfied: python-dateutil>=2.8.2 in /Users/eugenetulyagijja/anaconda3/envs/SAL384/lib/python3.10/site-packages (from cbbpy) (2.8.2)\n",
      "Requirement already satisfied: pytz>=2022.1 in /Users/eugenetulyagijja/anaconda3/envs/SAL384/lib/python3.10/site-packages (from cbbpy) (2023.3.post1)\n",
      "Requirement already satisfied: tqdm>=4.63.0 in /Users/eugenetulyagijja/anaconda3/envs/SAL384/lib/python3.10/site-packages (from cbbpy) (4.66.1)\n",
      "Requirement already satisfied: lxml>=4.9.0 in /Users/eugenetulyagijja/anaconda3/envs/SAL384/lib/python3.10/site-packages (from cbbpy) (4.9.2)\n",
      "Requirement already satisfied: tzdata>=2022.1 in /Users/eugenetulyagijja/anaconda3/envs/SAL384/lib/python3.10/site-packages (from pandas>=1.4.2->cbbpy) (2023.3)\n",
      "Requirement already satisfied: six>=1.5 in /Users/eugenetulyagijja/anaconda3/envs/SAL384/lib/python3.10/site-packages (from python-dateutil>=2.8.2->cbbpy) (1.16.0)\n",
      "Installing collected packages: cbbpy\n",
      "Successfully installed cbbpy-1.1.0\n",
      "Note: you may need to restart the kernel to use updated packages.\n"
     ]
    }
   ],
   "source": [
    "pip install cbbpy"
   ]
  },
  {
   "cell_type": "code",
   "execution_count": 3,
   "id": "b2ffb858",
   "metadata": {},
   "outputs": [],
   "source": [
    "import cbbpy.mens_scraper as ms"
   ]
  },
  {
   "cell_type": "code",
   "execution_count": 5,
   "id": "6631ce52",
   "metadata": {},
   "outputs": [
    {
     "name": "stdout",
     "output_type": "stream",
     "text": [
      "Collecting xgboost\n",
      "  Obtaining dependency information for xgboost from https://files.pythonhosted.org/packages/76/e8/260752c1bc8dc856b27cfefaa3fca29ba02a15f649bbf6e9c15ed54e5480/xgboost-2.0.2-py3-none-macosx_12_0_arm64.whl.metadata\n",
      "  Downloading xgboost-2.0.2-py3-none-macosx_12_0_arm64.whl.metadata (2.0 kB)\n",
      "Requirement already satisfied: numpy in /Users/eugenetulyagijja/anaconda3/envs/SAL384/lib/python3.10/site-packages (from xgboost) (1.25.2)\n",
      "Requirement already satisfied: scipy in /Users/eugenetulyagijja/anaconda3/envs/SAL384/lib/python3.10/site-packages (from xgboost) (1.11.2)\n",
      "Downloading xgboost-2.0.2-py3-none-macosx_12_0_arm64.whl (1.9 MB)\n",
      "\u001b[2K   \u001b[90m━━━━━━━━━━━━━━━━━━━━━━━━━━━━━━━━━━━━━━━━\u001b[0m \u001b[32m1.9/1.9 MB\u001b[0m \u001b[31m12.3 MB/s\u001b[0m eta \u001b[36m0:00:00\u001b[0m \u001b[36m0:00:01\u001b[0m\n",
      "\u001b[?25hInstalling collected packages: xgboost\n",
      "Successfully installed xgboost-2.0.2\n",
      "Note: you may need to restart the kernel to use updated packages.\n"
     ]
    }
   ],
   "source": [
    "pip install xgboost"
   ]
  },
  {
   "cell_type": "code",
   "execution_count": 6,
   "id": "64448b6f",
   "metadata": {},
   "outputs": [],
   "source": [
    "import numpy as np\n",
    "import pandas as pd\n",
    "import os\n",
    "import matplotlib.pyplot as plt\n",
    "import seaborn as sns\n",
    "from imblearn.over_sampling import SMOTE\n",
    "from sklearn import metrics\n",
    "from sklearn import preprocessing\n",
    "from sklearn.metrics import roc_curve\n",
    "from sklearn.metrics import roc_auc_score\n",
    "from matplotlib import pyplot\n",
    "\n",
    "from sklearn.model_selection import cross_val_score\n",
    "from sklearn.model_selection import train_test_split\n",
    "from sklearn.metrics import classification_report, confusion_matrix\n",
    "from sklearn.metrics import confusion_matrix, recall_score\n",
    "from sklearn import model_selection\n",
    "from xgboost import XGBClassifier\n",
    "import xgboost as xgb\n",
    "from sklearn.inspection import (partial_dependence, \n",
    "                                PartialDependenceDisplay)\n",
    "sns.set(style='darkgrid', context='talk', palette='Set2')"
   ]
  },
  {
   "cell_type": "code",
   "execution_count": null,
   "id": "c57de8ae",
   "metadata": {},
   "outputs": [],
   "source": []
  }
 ],
 "metadata": {
  "kernelspec": {
   "display_name": "Python 3 (ipykernel)",
   "language": "python",
   "name": "python3"
  },
  "language_info": {
   "codemirror_mode": {
    "name": "ipython",
    "version": 3
   },
   "file_extension": ".py",
   "mimetype": "text/x-python",
   "name": "python",
   "nbconvert_exporter": "python",
   "pygments_lexer": "ipython3",
   "version": "3.10.12"
  }
 },
 "nbformat": 4,
 "nbformat_minor": 5
}
